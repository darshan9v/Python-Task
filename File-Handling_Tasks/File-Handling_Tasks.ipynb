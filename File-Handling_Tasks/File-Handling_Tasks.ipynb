{
 "cells": [
  {
   "cell_type": "markdown",
   "id": "21b91d51-335a-4d6b-8b9d-65910b977d5e",
   "metadata": {},
   "source": [
    "#### 1. Task:\n",
    "User Registration System\n",
    "\n",
    "Ask the user for Name, Email, and Password. using Input().\n",
    "\n",
    "Save each new user's info in a file called users.txt. File Handling (append mode)."
   ]
  },
  {
   "cell_type": "code",
   "execution_count": 1,
   "id": "b563d747-19fb-44a8-8b25-0ba202e1aeaa",
   "metadata": {},
   "outputs": [
    {
     "name": "stdin",
     "output_type": "stream",
     "text": [
      "Enter your name:  Karan\n",
      "Enter your email:  Karan@gmail.com\n",
      "Enter your password:  1234321\n"
     ]
    },
    {
     "name": "stdout",
     "output_type": "stream",
     "text": [
      "Registration successful!\n"
     ]
    }
   ],
   "source": [
    "# User Registration System\n",
    "name = input(\"Enter your name: \")\n",
    "email = input(\"Enter your email: \")\n",
    "password = input(\"Enter your password: \")\n",
    "\n",
    "with open('users.txt', 'a') as f:  # 'a' for append mode\n",
    "    f.write(f\"Name: {name}, Email: {email}, Password: {password}\\n\")\n",
    "\n",
    "print(\"Registration successful!\")"
   ]
  },
  {
   "cell_type": "markdown",
   "id": "b0d7bea2-f1f1-4c8b-9fad-52c59e0aa857",
   "metadata": {},
   "source": [
    "#### 2. Task:\n",
    "Daily Diary App\n",
    "\n",
    "Every time the user runs the program, let them write today's thoughts.\n",
    "\n",
    "Save entries in diary.txt, with each entry on a new line."
   ]
  },
  {
   "cell_type": "code",
   "execution_count": 2,
   "id": "67c8b1ed-ae49-4eca-9e41-3bb30ef58012",
   "metadata": {},
   "outputs": [
    {
     "name": "stdin",
     "output_type": "stream",
     "text": [
      "Write today's thoughts:  Thought Demo\n"
     ]
    },
    {
     "name": "stdout",
     "output_type": "stream",
     "text": [
      "Your thoughts have been saved!\n"
     ]
    }
   ],
   "source": [
    "# Daily Diary App\n",
    "thoughts = input(\"Write today's thoughts: \")\n",
    "\n",
    "with open('diary.txt', 'a') as f:\n",
    "    f.write(thoughts + '\\n')  # Add a new line after each entry\n",
    "\n",
    "print(\"Your thoughts have been saved!\")"
   ]
  },
  {
   "cell_type": "markdown",
   "id": "8d94e15f-7b10-411a-8d37-058915b8390e",
   "metadata": {},
   "source": [
    "#### 3. Task:\n",
    "Simple Logger\n",
    "\n",
    "Every time the user does an action (like clicks a button, or types something), log it into a log.txt file with a timestamp.\n"
   ]
  },
  {
   "cell_type": "code",
   "execution_count": 3,
   "id": "3f862702-5b6e-4aa9-b399-9655e683ee25",
   "metadata": {},
   "outputs": [
    {
     "name": "stdin",
     "output_type": "stream",
     "text": [
      "What did you do?  Click Button\n"
     ]
    },
    {
     "name": "stdout",
     "output_type": "stream",
     "text": [
      "Logged!\n"
     ]
    }
   ],
   "source": [
    "# Simple Logger\n",
    "from datetime import datetime\n",
    "\n",
    "action = input(\"What did you do? \")\n",
    "\n",
    "with open('log.txt', 'a') as f:\n",
    "    f.write(f\"{datetime.now()} - {action}\\n\")\n",
    "\n",
    "print(\"Logged!\")"
   ]
  },
  {
   "cell_type": "code",
   "execution_count": null,
   "id": "3a091df0-deb9-4329-83fa-9f334b8b3312",
   "metadata": {},
   "outputs": [],
   "source": []
  }
 ],
 "metadata": {
  "kernelspec": {
   "display_name": "Python (myenv)",
   "language": "python",
   "name": "myenv"
  },
  "language_info": {
   "codemirror_mode": {
    "name": "ipython",
    "version": 3
   },
   "file_extension": ".py",
   "mimetype": "text/x-python",
   "name": "python",
   "nbconvert_exporter": "python",
   "pygments_lexer": "ipython3",
   "version": "3.12.7"
  }
 },
 "nbformat": 4,
 "nbformat_minor": 5
}
