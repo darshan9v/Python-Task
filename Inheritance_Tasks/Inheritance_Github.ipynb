{
 "cells": [
  {
   "cell_type": "markdown",
   "id": "1b2b7b03-739e-42ec-9950-c6d621cc1c95",
   "metadata": {},
   "source": [
    "# Inheritance Task"
   ]
  },
  {
   "cell_type": "markdown",
   "id": "d953bfdf-0c2b-49b8-93a1-58645978cf3a",
   "metadata": {},
   "source": [
    "##### Task 1: Basic Inheritance – Animal Example                 \n",
    "Goal: Understand how inheritance works between parent and child classes.\n",
    "Instructions:\n",
    "\n",
    "- Create a class Animal with properties like name and sound and a method make_sound().\n",
    "\n",
    "- Create a class Dog that inherits from Animal and overrides the make_sound() method."
   ]
  },
  {
   "cell_type": "code",
   "execution_count": null,
   "id": "ccde3a72-6656-4621-9d1c-3439a344be0e",
   "metadata": {},
   "outputs": [],
   "source": [
    "# Parent class\n",
    "class Animal:\n",
    "    def __init__(self, name, sound):\n",
    "        self.name = name\n",
    "        self.sound = sound\n",
    "\n",
    "    def make_sound(self):\n",
    "        print(f\"{self.name} makes a sound: {self.sound}\")\n",
    "\n",
    "# Child class\n",
    "class Dog(Animal):\n",
    "    def __init__(self, name):\n",
    "        # Call the constructor of the parent class\n",
    "        super().__init__(name, \"Bark\")\n",
    "\n",
    "    # Overriding the make_sound method\n",
    "    def make_sound(self):\n",
    "        print(f\"{self.name} says: Woof Woof!\")\n",
    "\n",
    "# Create objects\n",
    "animal = Animal(\"Generic Animal\", \"Some Sound\")\n",
    "dog = Dog(\"Buddy\")\n",
    "\n",
    "# Call methods\n",
    "animal.make_sound()  # Output: Generic Animal makes a sound: Some Sound\n",
    "dog.make_sound()     # Output: Buddy says: Woof Woof!\n"
   ]
  },
  {
   "cell_type": "markdown",
   "id": "206eb7bf-677e-4e6d-9447-7d65d692a3b8",
   "metadata": {},
   "source": [
    "##### Task 2: Multilevel Inheritance – Vehicle Example                 \n",
    "Goal: Learn how inheritance can extend through multiple levels.\n",
    "Instructions:\n",
    "\n",
    "- Create a base class Vehicle with attributes brand and speed.\n",
    "\n",
    "- Create a class Car that inherits from Vehicle and adds fuel_type.\n",
    "\n",
    "- Create a class ElectricCar that inherits from Car and adds battery_life."
   ]
  },
  {
   "cell_type": "code",
   "execution_count": 2,
   "id": "447779f0-0079-4f1c-8115-8becb992c88d",
   "metadata": {},
   "outputs": [
    {
     "name": "stdout",
     "output_type": "stream",
     "text": [
      "Brand: Tesla\n",
      "Speed: 250 km/h\n",
      "Fuel Type: Electric\n",
      "Battery Life: 10 hours\n"
     ]
    }
   ],
   "source": [
    "# Base class\n",
    "class Vehicle:\n",
    "    def __init__(self, brand, speed):\n",
    "        self.brand = brand\n",
    "        self.speed = speed\n",
    "\n",
    "    def show_info(self):\n",
    "        print(f\"Brand: {self.brand}\")\n",
    "        print(f\"Speed: {self.speed} km/h\")\n",
    "\n",
    "# First level child class\n",
    "class Car(Vehicle):\n",
    "    def __init__(self, brand, speed, fuel_type):\n",
    "        # Call Vehicle constructor\n",
    "        super().__init__(brand, speed)\n",
    "        self.fuel_type = fuel_type\n",
    "\n",
    "    def show_info(self):\n",
    "        super().show_info()\n",
    "        print(f\"Fuel Type: {self.fuel_type}\")\n",
    "\n",
    "# Second level child class\n",
    "class ElectricCar(Car):\n",
    "    def __init__(self, brand, speed, battery_life):\n",
    "        # Call Car constructor, passing \"Electric\" as fuel_type\n",
    "        super().__init__(brand, speed, fuel_type=\"Electric\")\n",
    "        self.battery_life = battery_life\n",
    "\n",
    "    def show_info(self):\n",
    "        super().show_info()\n",
    "        print(f\"Battery Life: {self.battery_life} hours\")\n",
    "\n",
    "# Create an object of ElectricCar\n",
    "tesla = ElectricCar(\"Tesla\", 250, 10)\n",
    "\n",
    "# Call method\n",
    "tesla.show_info()\n"
   ]
  },
  {
   "cell_type": "markdown",
   "id": "eab109b9-cdce-41b9-8750-43e971bb5658",
   "metadata": {},
   "source": [
    "##### Task 3: Hierarchical Inheritance – Shape Example\n",
    "Goal: Understand how multiple classes can inherit from the same parent.\n",
    "Instructions:\n",
    "\n",
    "- Create a base class Shape with a method area().\n",
    "\n",
    "- Create two classes Rectangle and Circle that inherit from Shape and implement their own area() method."
   ]
  },
  {
   "cell_type": "code",
   "execution_count": 3,
   "id": "ba0ff005-bd38-40b5-b1d4-fe4c36d685ca",
   "metadata": {},
   "outputs": [
    {
     "name": "stdout",
     "output_type": "stream",
     "text": [
      "Rectangle Area: 50\n",
      "Circle Area: 153.94\n"
     ]
    }
   ],
   "source": [
    "import math\n",
    "\n",
    "# Base class\n",
    "class Shape:\n",
    "    def area(self):\n",
    "        pass  # Empty method, meant to be overridden\n",
    "\n",
    "# First child class\n",
    "class Rectangle(Shape):\n",
    "    def __init__(self, length, width):\n",
    "        self.length = length\n",
    "        self.width = width\n",
    "\n",
    "    def area(self):\n",
    "        return self.length * self.width\n",
    "\n",
    "# Second child class\n",
    "class Circle(Shape):\n",
    "    def __init__(self, radius):\n",
    "        self.radius = radius\n",
    "\n",
    "    def area(self):\n",
    "        return math.pi * self.radius ** 2\n",
    "\n",
    "# Create objects\n",
    "rect = Rectangle(10, 5)\n",
    "circle = Circle(7)\n",
    "\n",
    "# Print areas\n",
    "print(\"Rectangle Area:\", rect.area())  # Output: 50\n",
    "print(\"Circle Area:\", round(circle.area(), 2))  # Output: approx 153.94\n"
   ]
  },
  {
   "cell_type": "markdown",
   "id": "cda8c8c7-8610-4798-b6ee-933fdd6da655",
   "metadata": {},
   "source": [
    "##### Task 4: Use of super()\n",
    "Goal: Practice calling the parent class constructor and methods using super().\n",
    "Instructions:\n",
    "\n",
    "- Create a class Person with name and age.\n",
    "\n",
    "- Create a class Employee that inherits from Person, adds employee_id, and uses super() to initialize name and age."
   ]
  },
  {
   "cell_type": "code",
   "execution_count": 4,
   "id": "5ea38c98-d75a-4441-b64d-921ea26a66ee",
   "metadata": {},
   "outputs": [
    {
     "name": "stdout",
     "output_type": "stream",
     "text": [
      "Name: Ravi\n",
      "Age: 30\n",
      "Employee ID: E123\n"
     ]
    }
   ],
   "source": [
    "# Parent class\n",
    "class Person:\n",
    "    def __init__(self, name, age):\n",
    "        self.name = name\n",
    "        self.age = age\n",
    "\n",
    "    def show_details(self):\n",
    "        print(f\"Name: {self.name}\")\n",
    "        print(f\"Age: {self.age}\")\n",
    "\n",
    "# Child class\n",
    "class Employee(Person):\n",
    "    def __init__(self, name, age, employee_id):\n",
    "        # Call the parent class constructor using super()\n",
    "        super().__init__(name, age)\n",
    "        self.employee_id = employee_id\n",
    "\n",
    "    def show_details(self):\n",
    "        # Call parent method\n",
    "        super().show_details()\n",
    "        print(f\"Employee ID: {self.employee_id}\")\n",
    "\n",
    "# Create an object of Employee\n",
    "emp = Employee(\"Ravi\", 30, \"E123\")\n",
    "\n",
    "# Call method\n",
    "emp.show_details()\n"
   ]
  },
  {
   "cell_type": "markdown",
   "id": "c58308c3-19d9-4d90-8cc6-3c09dcd4da3e",
   "metadata": {},
   "source": [
    "##### Task 5: Constructor Overriding\n",
    "Goal: Learn how to override constructors in child classes.\n",
    "Instructions:\n",
    "\n",
    "- Create a class Book with title and author.\n",
    "\n",
    "- Create a class Ebook that overrides the constructor to also include file size and format."
   ]
  },
  {
   "cell_type": "code",
   "execution_count": 6,
   "id": "54149290-e903-44f7-ae78-3b7a44375a3b",
   "metadata": {},
   "outputs": [
    {
     "name": "stdout",
     "output_type": "stream",
     "text": [
      "Title: Python Basics\n",
      "Author: John Doe\n",
      "File Size: 5 MB\n",
      "Format: PDF\n"
     ]
    }
   ],
   "source": [
    "# Parent class\n",
    "class Book:\n",
    "    def __init__(self, title, author):\n",
    "        self.title = title\n",
    "        self.author = author\n",
    "\n",
    "    def show_details(self):\n",
    "        print(f\"Title: {self.title}\")\n",
    "        print(f\"Author: {self.author}\")\n",
    "\n",
    "# Child class\n",
    "class Ebook(Book):\n",
    "    def __init__(self, title, author, file_size, file_format):\n",
    "        # Override constructor and call parent class constructor\n",
    "        super().__init__(title, author)\n",
    "        self.file_size = file_size  # in MB\n",
    "        self.file_format = file_format  # e.g., PDF, EPUB\n",
    "\n",
    "    def show_details(self):\n",
    "        # Use parent's method and add more\n",
    "        super().show_details()\n",
    "        print(f\"File Size: {self.file_size} MB\")\n",
    "        print(f\"Format: {self.file_format}\")\n",
    "\n",
    "# Create object\n",
    "ebook1 = Ebook(\"Python Basics\", \"John Doe\", 5, \"PDF\")\n",
    "\n",
    "# Call method\n",
    "ebook1.show_details()\n"
   ]
  },
  {
   "cell_type": "markdown",
   "id": "fee493c5-88b7-4bb8-be8c-6f88356da829",
   "metadata": {},
   "source": [
    "##### Task 6: Real-Life Problem – Bank Account System\n",
    "Goal: Apply inheritance to a real-world scenario.\n",
    "Instructions:\n",
    "\n",
    "- Create a class BankAccount with attributes account_number, balance, and methods deposit() and withdraw().\n",
    "\n",
    "- Create a class SavingsAccount that inherits from BankAccount and adds interest_rate.\n",
    "\n",
    "- Create a class CheckingAccount that adds an overdraft_limit."
   ]
  },
  {
   "cell_type": "code",
   "execution_count": 8,
   "id": "c3f4b958-b8a9-4fdc-a961-84d98fbe8fda",
   "metadata": {},
   "outputs": [
    {
     "name": "stdout",
     "output_type": "stream",
     "text": [
      "---- Savings Account ----\n",
      "Deposited ₹2000. New balance: ₹12000\n",
      "Interest of ₹600.00 added. New balance: ₹12600.00\n",
      "Withdrew ₹3000. New balance: ₹9600.0\n",
      "Account No: SA123, Balance: ₹9600.0\n",
      "\n",
      "---- Checking Account ----\n",
      "Withdrew ₹6000. New balance: ₹-4000\n",
      "Exceeded overdraft limit!\n",
      "Account No: CA456, Balance: ₹-4000\n"
     ]
    }
   ],
   "source": [
    "# Base class\n",
    "class BankAccount:\n",
    "    def __init__(self, account_number, balance=0):\n",
    "        self.account_number = account_number\n",
    "        self.balance = balance\n",
    "\n",
    "    def deposit(self, amount):\n",
    "        self.balance += amount\n",
    "        print(f\"Deposited ₹{amount}. New balance: ₹{self.balance}\")\n",
    "\n",
    "    def withdraw(self, amount):\n",
    "        if amount <= self.balance:\n",
    "            self.balance -= amount\n",
    "            print(f\"Withdrew ₹{amount}. New balance: ₹{self.balance}\")\n",
    "        else:\n",
    "            print(\"Insufficient balance!\")\n",
    "\n",
    "    def show_balance(self):\n",
    "        print(f\"Account No: {self.account_number}, Balance: ₹{self.balance}\")\n",
    "\n",
    "\n",
    "# Child class: SavingsAccount\n",
    "class SavingsAccount(BankAccount):\n",
    "    def __init__(self, account_number, balance=0, interest_rate=0.05):\n",
    "        super().__init__(account_number, balance)\n",
    "        self.interest_rate = interest_rate\n",
    "\n",
    "    def add_interest(self):\n",
    "        interest = self.balance * self.interest_rate\n",
    "        self.balance += interest\n",
    "        print(f\"Interest of ₹{interest:.2f} added. New balance: ₹{self.balance:.2f}\")\n",
    "\n",
    "\n",
    "# Child class: CheckingAccount\n",
    "class CheckingAccount(BankAccount):\n",
    "    def __init__(self, account_number, balance=0, overdraft_limit=5000):\n",
    "        super().__init__(account_number, balance)\n",
    "        self.overdraft_limit = overdraft_limit\n",
    "\n",
    "    def withdraw(self, amount):\n",
    "        if amount <= self.balance + self.overdraft_limit:\n",
    "            self.balance -= amount\n",
    "            print(f\"Withdrew ₹{amount}. New balance: ₹{self.balance}\")\n",
    "        else:\n",
    "            print(\"Exceeded overdraft limit!\")\n",
    "\n",
    "\n",
    "# Example usage\n",
    "print(\"---- Savings Account ----\")\n",
    "savings = SavingsAccount(\"SA123\", 10000)\n",
    "savings.deposit(2000)\n",
    "savings.add_interest()\n",
    "savings.withdraw(3000)\n",
    "savings.show_balance()\n",
    "\n",
    "print(\"\\n---- Checking Account ----\")\n",
    "checking = CheckingAccount(\"CA456\", 2000)\n",
    "checking.withdraw(6000)  # Should allow because of overdraft\n",
    "checking.withdraw(2000)  # May exceed overdraft\n",
    "checking.show_balance()\n"
   ]
  },
  {
   "cell_type": "code",
   "execution_count": null,
   "id": "8ec3126a-530a-40df-8c55-de64df711d96",
   "metadata": {},
   "outputs": [],
   "source": []
  }
 ],
 "metadata": {
  "kernelspec": {
   "display_name": "Python (myenv)",
   "language": "python",
   "name": "myenv"
  },
  "language_info": {
   "codemirror_mode": {
    "name": "ipython",
    "version": 3
   },
   "file_extension": ".py",
   "mimetype": "text/x-python",
   "name": "python",
   "nbconvert_exporter": "python",
   "pygments_lexer": "ipython3",
   "version": "3.12.7"
  }
 },
 "nbformat": 4,
 "nbformat_minor": 5
}
