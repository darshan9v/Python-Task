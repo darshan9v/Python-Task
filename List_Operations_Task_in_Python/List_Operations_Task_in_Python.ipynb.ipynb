{
 "cells": [
  {
   "cell_type": "markdown",
   "id": "bd75c407-405c-4a65-8065-77ed25a58cd0",
   "metadata": {},
   "source": [
    "# Tasks"
   ]
  },
  {
   "cell_type": "markdown",
   "id": "a562cb1c-f626-4297-9faf-b8bf774d5e75",
   "metadata": {},
   "source": [
    "## 1st Task:"
   ]
  },
  {
   "cell_type": "markdown",
   "id": "a1d55e44-94f4-4af2-916b-e08cce1638ed",
   "metadata": {},
   "source": [
    "1. Find how many days you recorded sales.\n",
    "2. Find the lowest sales day.\n",
    "3. Find the highest sales day.\n",
    "4.  Arrange sales from highest to lowest to review performance.\n",
    "\n"
   ]
  },
  {
   "cell_type": "code",
   "execution_count": 1,
   "id": "98a45e2d-2605-4b44-9633-f3b04365d573",
   "metadata": {},
   "outputs": [
    {
     "name": "stdout",
     "output_type": "stream",
     "text": [
      "Number of sales days: 7\n",
      "Lowest sales day: 150\n",
      "Highest sales day: 400\n",
      "Sales from highest to lowest: [400, 300, 250, 225, 200, 175, 150]\n"
     ]
    }
   ],
   "source": [
    "sales = [1200, 950, 1420, 780, 1650, 1100, 970]\n",
    "\n",
    "# Grocery Store Sales List\n",
    "sales = [150, 200, 250, 175, 300, 400, 225]\n",
    "\n",
    "# Find number of days sales were recorded\n",
    "print(\"Number of sales days:\", len(sales))\n",
    "\n",
    "# Find the lowest sales day\n",
    "print(\"Lowest sales day:\", min(sales))\n",
    "\n",
    "# Find the highest sales day\n",
    "print(\"Highest sales day:\", max(sales))\n",
    "\n",
    "# Sort sales from highest to lowest\n",
    "print(\"Sales from highest to lowest:\", sorted(sales, reverse=True))"
   ]
  },
  {
   "cell_type": "markdown",
   "id": "3459cc87-57ed-41b7-8896-78c211c416a7",
   "metadata": {},
   "source": [
    "## 2nd Task:"
   ]
  },
  {
   "cell_type": "markdown",
   "id": "9b03087e-a701-4a35-a621-b33c54c750c6",
   "metadata": {},
   "source": [
    "         \n",
    "\n",
    "You are booking seats in a theater.               \n",
    "You have a list of booked seat numbers, and you want to find the first seat where a special customer (VIP) is seated."
   ]
  },
  {
   "cell_type": "code",
   "execution_count": 3,
   "id": "bf3f0fde-3130-448a-811d-65e00712647b",
   "metadata": {},
   "outputs": [
    {
     "name": "stdout",
     "output_type": "stream",
     "text": [
      "VIP seat booked 3 times\n"
     ]
    }
   ],
   "source": [
    "seats = [1, 2, 3, 4, 5, 6, 7, 8, 9, 10]                         \n",
    "booked_seats = [1, 3, 5, 7, 9]  # Booked seats                \n",
    "vip_seat = 7  # Seat number for the special customer (VIP)  \n",
    "\n",
    "# Theater seat booking example\n",
    "seats_booked = [1, 2, 3, 4, 1, 5, 6, 1, 7]\n",
    "\n",
    "# Count the number of times VIP seat (1) is booked\n",
    "print(\"VIP seat booked\", seats_booked.count(1), \"times\")"
   ]
  },
  {
   "cell_type": "markdown",
   "id": "be334bf1-a96d-47a0-aeac-a28eb7afa43e",
   "metadata": {},
   "source": [
    "## 3rd Task:"
   ]
  },
  {
   "cell_type": "markdown",
   "id": "927e5574-b131-4b1e-bea1-563802db1873",
   "metadata": {},
   "source": [
    "- You are managing train coach arrangement.                \n",
    "- Sometimes, trains arrive from the opposite side, so you need to reverse the list of coaches for departure.                 "
   ]
  },
  {
   "cell_type": "code",
   "execution_count": 4,
   "id": "eafbb338-fe69-47de-87f2-7e51a491528d",
   "metadata": {},
   "outputs": [
    {
     "name": "stdout",
     "output_type": "stream",
     "text": [
      "Reversed coaches list: ['Coach E', 'Coach D', 'Coach C', 'Coach B', 'Coach A']\n"
     ]
    }
   ],
   "source": [
    "# Train coach arrangement\n",
    "coaches = [\"Coach A\", \"Coach B\", \"Coach C\", \"Coach D\", \"Coach E\"]\n",
    "\n",
    "# Reverse the list of coaches\n",
    "coaches.reverse()\n",
    "print(\"Reversed coaches list:\", coaches)\n"
   ]
  },
  {
   "cell_type": "markdown",
   "id": "4569af5e-65ff-4c4c-bc96-aa6100fc3d58",
   "metadata": {},
   "source": [
    "## 4th Task:"
   ]
  },
  {
   "cell_type": "markdown",
   "id": "666e3f0c-52b4-4705-8bc3-cac684756392",
   "metadata": {},
   "source": [
    "- You are preparing a rank list of students after exams.\n",
    "- Sorting the marks will help you declare results starting from the topper to the lowest scorer."
   ]
  },
  {
   "cell_type": "code",
   "execution_count": 6,
   "id": "2552bb0f-6e23-45c4-9d07-4f499901bc21",
   "metadata": {},
   "outputs": [
    {
     "name": "stdout",
     "output_type": "stream",
     "text": [
      "Marks sorted in ascending order: [55, 68, 75, 77, 82, 88, 91, 94]\n",
      "Marks sorted in descending order: [94, 91, 88, 82, 77, 75, 68, 55]\n"
     ]
    }
   ],
   "source": [
    "# Rank list of students after exams\n",
    "marks = [75, 82, 91, 68, 55, 88, 94, 77]\n",
    "\n",
    "# Sort the marks from lowest to highest\n",
    "marks.sort()\n",
    "print(\"Marks sorted in ascending order:\", marks)\n",
    "\n",
    "# Sort the marks from highest to lowest\n",
    "marks.sort(reverse=True)\n",
    "print(\"Marks sorted in descending order:\", marks)"
   ]
  },
  {
   "cell_type": "markdown",
   "id": "a27b6332-7df0-442a-bb13-e29a1ddb61e7",
   "metadata": {},
   "source": [
    "## 5th Task:"
   ]
  },
  {
   "cell_type": "markdown",
   "id": "8ee6bf21-65b7-4cea-acdb-523d023c6469",
   "metadata": {},
   "source": [
    "- You are working on a backup system for a website.\n",
    "- You need a copy of user data before making changes, so that the original is safe if something goes wrong."
   ]
  },
  {
   "cell_type": "code",
   "execution_count": 11,
   "id": "c05d79d5-17b6-481a-89c5-74260b094346",
   "metadata": {},
   "outputs": [
    {
     "name": "stdout",
     "output_type": "stream",
     "text": [
      "Original data: ['user1', 'user2', 'user3', 'user4', 'user5']\n",
      "Backup data: ['user1', 'user2', 'user3', 'user4', 'user5']\n"
     ]
    }
   ],
   "source": [
    "# Website backup system\n",
    "user_data = ['user1', 'user2', 'user3', 'user4', 'user5']\n",
    "\n",
    "# Make a copy of the data before making changes\n",
    "backup_data = user_data.copy()\n",
    "print(\"Original data:\", user_data)\n",
    "print(\"Backup data:\", backup_data)"
   ]
  },
  {
   "cell_type": "markdown",
   "id": "ffc67429-7e1f-4053-96f5-4c1c8567b423",
   "metadata": {},
   "source": [
    "## 6th Task:"
   ]
  },
  {
   "cell_type": "markdown",
   "id": "0905df01-2da0-46ed-b915-95124f2db5fb",
   "metadata": {},
   "source": [
    "- You are creating a discount list for a shopping site.\n",
    "- You need to quickly create a list showing prices after 10% discount for all items without writing long loops."
   ]
  },
  {
   "cell_type": "code",
   "execution_count": 14,
   "id": "2b67fc62-2f31-4508-ac3c-29198c74f31f",
   "metadata": {},
   "outputs": [
    {
     "name": "stdout",
     "output_type": "stream",
     "text": [
      "Prices after 10% discount: [90.0, 180.0, 270.0, 360.0, 450.0]\n"
     ]
    }
   ],
   "source": [
    "# Discount list for shopping site\n",
    "item_prices = [100, 200, 300, 400, 500]\n",
    "\n",
    "# Create a list showing prices after a 10% discount\n",
    "discounted_prices = [price * 0.9 for price in item_prices]\n",
    "print(\"Prices after 10% discount:\", discounted_prices)"
   ]
  },
  {
   "cell_type": "markdown",
   "id": "a267fd90-274f-4b46-acb9-825344ae0487",
   "metadata": {},
   "source": [
    "## 7th Task:"
   ]
  },
  {
   "cell_type": "markdown",
   "id": "59e8d439-c7b0-4bd9-ab62-522aa1556476",
   "metadata": {},
   "source": [
    "- You have a list of students’ names.\n",
    "\n",
    "- Itemwise: You call each student’s name one by one.\n",
    "\n",
    "- Indexwise: You call roll numbers and names together."
   ]
  },
  {
   "cell_type": "code",
   "execution_count": 15,
   "id": "1dc36b2d-b401-4da9-9c14-f50742003c47",
   "metadata": {},
   "outputs": [
    {
     "name": "stdout",
     "output_type": "stream",
     "text": [
      "Itemwise traversal:\n",
      "Aditi\n",
      "Bharat\n",
      "Chandresh\n",
      "Deepak\n",
      "Esha\n",
      "\n",
      "Indexwise traversal:\n",
      "Roll Number 1: Aditi\n",
      "Roll Number 2: Bharat\n",
      "Roll Number 3: Chandresh\n",
      "Roll Number 4: Deepak\n",
      "Roll Number 5: Esha\n"
     ]
    }
   ],
   "source": [
    "# List of students' names\n",
    "students = [\"Aditi\", \"Bharat\", \"Chandresh\", \"Deepak\", \"Esha\"]\n",
    "\n",
    "# Itemwise traversal\n",
    "print(\"Itemwise traversal:\")\n",
    "for student in students:\n",
    "    print(student)\n",
    "\n",
    "# Indexwise traversal\n",
    "print(\"\\nIndexwise traversal:\")\n",
    "for i in range(len(students)):\n",
    "    print(f\"Roll Number {i+1}: {students[i]}\")"
   ]
  },
  {
   "cell_type": "markdown",
   "id": "5a94dec6-c308-41d3-83a8-bbb5cb7cd11c",
   "metadata": {},
   "source": [
    "## 8th Task:"
   ]
  },
  {
   "cell_type": "markdown",
   "id": "dd213f3a-e2f4-40b4-a95b-eb29dff75b7d",
   "metadata": {},
   "source": [
    "- You are creating a marksheet by combining:\n",
    " 1. a list of student names and\n",
    " 2. a list of their scores.\n",
    "-  pair each name with its score"
   ]
  },
  {
   "cell_type": "code",
   "execution_count": 16,
   "id": "fda32cf2-f46e-44a2-9ccc-569420054f28",
   "metadata": {},
   "outputs": [],
   "source": [
    "students = [\"Aditi\", \"Bharat\", \"Chandresh\", \"Deepak\", \"Esha\"]\n",
    "scores = [85, 92, 78, 88, 95]"
   ]
  },
  {
   "cell_type": "code",
   "execution_count": 17,
   "id": "7583e8a4-128f-4ea1-9c21-ca5f48721a48",
   "metadata": {},
   "outputs": [
    {
     "name": "stdout",
     "output_type": "stream",
     "text": [
      "Marksheet: [('Aditi', 94), ('Bharat', 91), ('Chandresh', 88), ('Deepak', 82), ('Esha', 77)]\n"
     ]
    }
   ],
   "source": [
    "marksheet = list(zip(students, marks))\n",
    "print(\"Marksheet:\", marksheet)"
   ]
  },
  {
   "cell_type": "code",
   "execution_count": null,
   "id": "b2c6375e-75c0-4a95-9c14-1ae9d83f4e85",
   "metadata": {},
   "outputs": [],
   "source": []
  },
  {
   "cell_type": "code",
   "execution_count": null,
   "id": "16704b36-0ff9-4bb4-b10c-f0c225d83ca3",
   "metadata": {},
   "outputs": [],
   "source": []
  }
 ],
 "metadata": {
  "kernelspec": {
   "display_name": "Python (myenv)",
   "language": "python",
   "name": "myenv"
  },
  "language_info": {
   "codemirror_mode": {
    "name": "ipython",
    "version": 3
   },
   "file_extension": ".py",
   "mimetype": "text/x-python",
   "name": "python",
   "nbconvert_exporter": "python",
   "pygments_lexer": "ipython3",
   "version": "3.12.7"
  }
 },
 "nbformat": 4,
 "nbformat_minor": 5
}
